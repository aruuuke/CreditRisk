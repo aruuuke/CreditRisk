{
 "cells": [
  {
   "cell_type": "markdown",
   "id": "33203c06",
   "metadata": {},
   "source": [
    "# Using SVM to Predict Who is a Credit Risk"
   ]
  },
  {
   "cell_type": "markdown",
   "id": "2b0dcbe5",
   "metadata": {},
   "source": [
    "# 1. Necessary Imports"
   ]
  },
  {
   "cell_type": "code",
   "execution_count": 2,
   "id": "1c043f6e",
   "metadata": {},
   "outputs": [],
   "source": [
    "import numpy as np\n",
    "import pandas as pd \n",
    "import matplotlib.pyplot as plt"
   ]
  },
  {
   "cell_type": "markdown",
   "id": "19a5147a",
   "metadata": {},
   "source": [
    "# 2. Import Data, Merge into a New Dataset"
   ]
  },
  {
   "cell_type": "code",
   "execution_count": 3,
   "id": "201a1eaa",
   "metadata": {},
   "outputs": [],
   "source": [
    "def import_data():\n",
    "    payment_data = pd.read_csv(\"payment_data.csv\")\n",
    "    customer_data = pd.read_csv(\"customer_data.csv\")\n",
    "    df = pd.merge(customer_data,payment_data)\n",
    "    \n",
    "    return df\n",
    "# df.shape = (8250, 24)"
   ]
  },
  {
   "cell_type": "markdown",
   "id": "833566b8",
   "metadata": {},
   "source": [
    "# 3. Preprocess"
   ]
  },
  {
   "cell_type": "code",
   "execution_count": 4,
   "id": "4ae5d7cd",
   "metadata": {},
   "outputs": [],
   "source": [
    "from sklearn.preprocessing import StandardScaler\n",
    "\n",
    "def preprocess(df):\n",
    "    df.drop_duplicates()\n",
    "    df.dropna(inplace=True)\n",
    "    # Encode categorical features\n",
    "    df = pd.get_dummies(df, columns=['prod_code'])\n",
    "\n",
    "    # Impute missing values\n",
    "    df['prod_limit'].fillna(df['prod_limit'].mean(), inplace=True)\n",
    "    df['fea_2'].fillna(df['fea_2'].median(), inplace=True)\n",
    "    df['highest_balance'].fillna(df['highest_balance'].median(), inplace=True)\n",
    "    df['update_date'] = pd.to_datetime(df['update_date'], format='%d/%m/%Y')\n",
    "    df['report_date'] = pd.to_datetime(df['report_date'], format='%d/%m/%Y')\n",
    "    df['update_date'] = df['update_date'].apply(lambda x: pd.Timestamp(x).timestamp())\n",
    "    df['report_date'] = df['report_date'].apply(lambda x: pd.Timestamp(x).timestamp())\n",
    "\n",
    "    # Scale numerical features\n",
    "    scaler = StandardScaler()\n",
    "    num_cols = ['fea_1', 'fea_2', 'fea_3', 'fea_4', 'fea_5', 'fea_6', 'fea_7', 'fea_8', 'fea_9', 'fea_10', 'fea_11', 'OVD_t1', 'OVD_t2', 'OVD_t3', 'OVD_sum', 'pay_normal', 'prod_limit', 'new_balance', 'highest_balance', 'update_date', 'report_date']\n",
    "    df[num_cols] = scaler.fit_transform(df[num_cols])\n",
    "    \n",
    "    return df"
   ]
  },
  {
   "cell_type": "markdown",
   "id": "aaaf4e0f",
   "metadata": {},
   "source": [
    "# 4. Distribution of the Classes"
   ]
  },
  {
   "cell_type": "code",
   "execution_count": 5,
   "id": "75869237",
   "metadata": {},
   "outputs": [],
   "source": [
    "# df.shape = (1697, 25)\n",
    "# df['label'].value_counts()\n",
    "def plot():\n",
    "    low_credit_df = df[df['label'] == 0][0:200]\n",
    "    high_credit_df = df[df['label'] == 1][0:200]\n",
    "    axes = low_credit_df.plot(kind = 'scatter', x = 'OVD_t1', y = 'highest_balance', color = 'blue', label = 'low-risk')\n",
    "    high_credit_df.plot(kind = 'scatter', x = 'OVD_t1', y = 'highest_balance', color = 'red', label = 'high-risk', ax = axes)"
   ]
  },
  {
   "cell_type": "markdown",
   "id": "91bc20cd",
   "metadata": {},
   "source": [
    "# 5. Identify Unwanted Rows"
   ]
  },
  {
   "cell_type": "code",
   "execution_count": 6,
   "id": "d2e460ce",
   "metadata": {},
   "outputs": [],
   "source": [
    "# Converting the date columns to numeric values, only converts the non-missing data. Then sets the data type of the columns to\n",
    "# int instead of object.\n",
    "# df = df[pd.to_numeric(df['update_date'], errors = 'coerce').notnull()]\n",
    "# df = df[pd.to_numeric(df['report_date'], errors = 'coerce').notnull()]\n",
    "# df['update_date'] = df['update_date'].astype('int')\n",
    "# df['report_date'] = df['report_date'].astype('int')"
   ]
  },
  {
   "cell_type": "markdown",
   "id": "f8ccebb4",
   "metadata": {},
   "source": [
    "# 6. Remove Unwanted Columns"
   ]
  },
  {
   "cell_type": "code",
   "execution_count": 7,
   "id": "5c6b1b9d",
   "metadata": {},
   "outputs": [],
   "source": [
    "# Removing the update_date and report_date columns from dataset.\n",
    "\n",
    "def get_X_y(df):\n",
    "    feature_df = df\n",
    "\n",
    "    # Independent variables (features)\n",
    "    X = np.asarray(feature_df)\n",
    "\n",
    "    # Dependent variable\n",
    "    y = np.asarray(df['label'])\n",
    "    \n",
    "    return X, y\n",
    "\n",
    "#feature_df.dtypes"
   ]
  },
  {
   "cell_type": "code",
   "execution_count": 8,
   "id": "894be76a",
   "metadata": {},
   "outputs": [],
   "source": [
    "# print(X[0:5])\n",
    "# print(y[0:5])"
   ]
  },
  {
   "cell_type": "markdown",
   "id": "ef7d5eae",
   "metadata": {},
   "source": [
    "# 7. Divide into training and test data"
   ]
  },
  {
   "cell_type": "code",
   "execution_count": 19,
   "id": "0fc7a8a3",
   "metadata": {},
   "outputs": [],
   "source": [
    "# feature_df (1697) -> Train (no. rows) / Test (no. rows) ## 80/20 split\n",
    "# Train(X, y) ## X is a 2D array and y is a 1D array\n",
    "# Test(X, y)\n",
    "from sklearn.model_selection import train_test_split\n",
    "\n",
    "def split():\n",
    "    X_train, X_test, y_train, y_test = train_test_split(X, y, test_size = 0.2, random_state = 42)\n",
    "    return X_train, X_test, y_train, y_test"
   ]
  },
  {
   "cell_type": "code",
   "execution_count": 10,
   "id": "3f40f513",
   "metadata": {},
   "outputs": [],
   "source": [
    "# Verify splits\n",
    "# X_train.shape ## (1357, 25)\n",
    "# y_train.shape ## (1357,)\n",
    "# X_test.shape ## (340, 25)\n",
    "# y_test.shape ## (340,)"
   ]
  },
  {
   "cell_type": "code",
   "execution_count": 11,
   "id": "2e89b4ee",
   "metadata": {},
   "outputs": [],
   "source": [
    "from sklearn import svm\n",
    "# auto means 1/n_features\n",
    "def classify(X_test, X, y):\n",
    "    linear_classifier = svm.SVC(kernel = 'linear', gamma = 'auto', C = 0.1)\n",
    "    linear_classifier.fit(X, y)\n",
    "    y_linear_predict = linear_classifier.predict(X_test)\n",
    "    poly_classifier = svm.SVC(kernel = 'poly', gamma = 'auto', C = 0.1)\n",
    "    poly_classifier.fit(X, y)\n",
    "    y_poly_predict = poly_classifier.predict(X_test)\n",
    "    RBF_classifier = svm.SVC(kernel = 'rbf', gamma = 'auto', C = 0.1)\n",
    "    RBF_classifier.fit(X, y)\n",
    "    y_RBF_predict = RBF_classifier.predict(X_test)\n",
    "    \n",
    "    return y_linear_predict, y_poly_predict, y_RBF_predict"
   ]
  },
  {
   "cell_type": "markdown",
   "id": "ef1451d8",
   "metadata": {},
   "source": [
    "# Evaluation Results"
   ]
  },
  {
   "cell_type": "code",
   "execution_count": 12,
   "id": "301b0ee5",
   "metadata": {},
   "outputs": [],
   "source": [
    "from sklearn.datasets import make_classification\n",
    "from sklearn.metrics import classification_report\n",
    "\n",
    "def results(X_test, X, y):\n",
    "    y_linear_predict, y_poly_predict, y_RBF_predict = classify(X_test, X, y)\n",
    "    print(classification_report(y_test, y_linear_predict, zero_division = 0))\n",
    "    print(classification_report(y_test, y_poly_predict, zero_division = 0))\n",
    "    print(classification_report(y_test, y_RBF_predict, zero_division = 0))"
   ]
  },
  {
   "cell_type": "code",
   "execution_count": 13,
   "id": "cff64ebb",
   "metadata": {},
   "outputs": [],
   "source": [
    "## To-Do: Add regularization (lambda)"
   ]
  },
  {
   "cell_type": "code",
   "execution_count": 14,
   "id": "de4d71a1",
   "metadata": {},
   "outputs": [],
   "source": [
    "df = import_data()\n",
    "df = preprocess(df)"
   ]
  },
  {
   "cell_type": "code",
   "execution_count": 15,
   "id": "34c06a79",
   "metadata": {},
   "outputs": [],
   "source": [
    "X, y = get_X_y(df)"
   ]
  },
  {
   "cell_type": "code",
   "execution_count": 20,
   "id": "1de0fca2",
   "metadata": {},
   "outputs": [],
   "source": [
    "X_train, X_test, y_train, y_test = split()"
   ]
  },
  {
   "cell_type": "code",
   "execution_count": 21,
   "id": "6017df3d",
   "metadata": {},
   "outputs": [
    {
     "name": "stdout",
     "output_type": "stream",
     "text": [
      "              precision    recall  f1-score   support\n",
      "\n",
      "           0       0.88      1.00      0.94       299\n",
      "           1       0.00      0.00      0.00        41\n",
      "\n",
      "    accuracy                           0.88       340\n",
      "   macro avg       0.44      0.50      0.47       340\n",
      "weighted avg       0.77      0.88      0.82       340\n",
      "\n",
      "              precision    recall  f1-score   support\n",
      "\n",
      "           0       0.00      0.00      0.00       299\n",
      "           1       0.12      1.00      0.22        41\n",
      "\n",
      "    accuracy                           0.12       340\n",
      "   macro avg       0.06      0.50      0.11       340\n",
      "weighted avg       0.01      0.12      0.03       340\n",
      "\n",
      "              precision    recall  f1-score   support\n",
      "\n",
      "           0       0.88      1.00      0.94       299\n",
      "           1       0.00      0.00      0.00        41\n",
      "\n",
      "    accuracy                           0.88       340\n",
      "   macro avg       0.44      0.50      0.47       340\n",
      "weighted avg       0.77      0.88      0.82       340\n",
      "\n"
     ]
    }
   ],
   "source": [
    "results(X_test, X, y)"
   ]
  },
  {
   "cell_type": "code",
   "execution_count": null,
   "id": "3ba3d8ba",
   "metadata": {},
   "outputs": [],
   "source": []
  }
 ],
 "metadata": {
  "kernelspec": {
   "display_name": "Python 3 (ipykernel)",
   "language": "python",
   "name": "python3"
  },
  "language_info": {
   "codemirror_mode": {
    "name": "ipython",
    "version": 3
   },
   "file_extension": ".py",
   "mimetype": "text/x-python",
   "name": "python",
   "nbconvert_exporter": "python",
   "pygments_lexer": "ipython3",
   "version": "3.9.13"
  }
 },
 "nbformat": 4,
 "nbformat_minor": 5
}
