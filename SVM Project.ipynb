{
 "cells": [
  {
   "cell_type": "markdown",
   "id": "33203c06",
   "metadata": {},
   "source": [
    "# Using SVM to Predict Who is a Credit Risk"
   ]
  },
  {
   "cell_type": "markdown",
   "id": "2b0dcbe5",
   "metadata": {},
   "source": [
    "# 1. Necessary Imports"
   ]
  },
  {
   "cell_type": "code",
   "execution_count": 1,
   "id": "1c043f6e",
   "metadata": {},
   "outputs": [],
   "source": [
    "import numpy as np\n",
    "import pandas as pd \n",
    "import matplotlib.pyplot as plt"
   ]
  },
  {
   "cell_type": "markdown",
   "id": "19a5147a",
   "metadata": {},
   "source": [
    "# 2. Import Data, Merge into a New Dataset"
   ]
  },
  {
   "cell_type": "code",
   "execution_count": 2,
   "id": "201a1eaa",
   "metadata": {},
   "outputs": [],
   "source": [
    "def import_data():\n",
    "    payment_data = pd.read_csv(\"payment_data.csv\")\n",
    "    customer_data = pd.read_csv(\"customer_data.csv\")\n",
    "    df = pd.merge(customer_data,payment_data)\n",
    "    \n",
    "    return df\n",
    "# df.shape = (8250, 24)"
   ]
  },
  {
   "cell_type": "markdown",
   "id": "833566b8",
   "metadata": {},
   "source": [
    "# 3. Preprocess"
   ]
  },
  {
   "cell_type": "code",
   "execution_count": 3,
   "id": "4ae5d7cd",
   "metadata": {},
   "outputs": [],
   "source": [
    "from sklearn.preprocessing import StandardScaler\n",
    "\n",
    "def preprocess(df):\n",
    "    df.drop_duplicates()\n",
    "    df.dropna(inplace=True)\n",
    "    # Encode categorical features\n",
    "    df = pd.get_dummies(df, columns=['prod_code'])\n",
    "\n",
    "    # Impute missing values\n",
    "    df['prod_limit'].fillna(df['prod_limit'].mean(), inplace=True)\n",
    "    df['fea_2'].fillna(df['fea_2'].median(), inplace=True)\n",
    "    df['highest_balance'].fillna(df['highest_balance'].median(), inplace=True)\n",
    "    df['update_date'] = pd.to_datetime(df['update_date'], format='%d/%m/%Y')\n",
    "    df['report_date'] = pd.to_datetime(df['report_date'], format='%d/%m/%Y')\n",
    "    df['update_date'] = df['update_date'].apply(lambda x: pd.Timestamp(x).timestamp())\n",
    "    df['report_date'] = df['report_date'].apply(lambda x: pd.Timestamp(x).timestamp())\n",
    "\n",
    "    # Scale numerical features\n",
    "    scaler = StandardScaler()\n",
    "    num_cols = ['fea_1', 'fea_2', 'fea_3', 'fea_4', 'fea_5', 'fea_6', 'fea_7', 'fea_8', 'fea_9', 'fea_10', 'fea_11', 'OVD_t1', 'OVD_t2', 'OVD_t3', 'OVD_sum', 'pay_normal', 'prod_limit', 'new_balance', 'highest_balance', 'update_date', 'report_date']\n",
    "    df[num_cols] = scaler.fit_transform(df[num_cols])\n",
    "    \n",
    "    return df"
   ]
  },
  {
   "cell_type": "markdown",
   "id": "aaaf4e0f",
   "metadata": {},
   "source": [
    "# 4. Distribution of the Classes"
   ]
  },
  {
   "cell_type": "code",
   "execution_count": 4,
   "id": "75869237",
   "metadata": {},
   "outputs": [],
   "source": [
    "# df.shape = (1697, 25)\n",
    "# df['label'].value_counts()\n",
    "def plot():\n",
    "    low_credit_df = df[df['label'] == 0][0:200]\n",
    "    high_credit_df = df[df['label'] == 1][0:200]\n",
    "    axes = low_credit_df.plot(kind = 'scatter', x = 'OVD_t1', y = 'highest_balance', color = 'blue', label = 'low-risk')\n",
    "    high_credit_df.plot(kind = 'scatter', x = 'OVD_t1', y = 'highest_balance', color = 'red', label = 'high-risk', ax = axes)"
   ]
  },
  {
   "cell_type": "markdown",
   "id": "f8ccebb4",
   "metadata": {},
   "source": [
    "# 5. Remove Unwanted Columns"
   ]
  },
  {
   "cell_type": "code",
   "execution_count": 5,
   "id": "5c6b1b9d",
   "metadata": {},
   "outputs": [],
   "source": [
    "# Did not end up removing any columns.\n",
    "def get_X_y(df):\n",
    "    feature_df = df\n",
    "\n",
    "    # Independent variables (features)\n",
    "    X = np.asarray(feature_df)\n",
    "\n",
    "    # Dependent variables\n",
    "    y = np.asarray(df['label'])\n",
    "    \n",
    "    return X, y"
   ]
  },
  {
   "cell_type": "markdown",
   "id": "ef7d5eae",
   "metadata": {},
   "source": [
    "# 6. Divide into training and test data"
   ]
  },
  {
   "cell_type": "code",
   "execution_count": 6,
   "id": "0fc7a8a3",
   "metadata": {},
   "outputs": [],
   "source": [
    "# feature_df (1697) -> Train (no. rows) / Test (no. rows) ## 80/20 split\n",
    "# Train(X, y) ## X is a 2D array and y is a 1D array\n",
    "# Test(X, y)\n",
    "from sklearn.model_selection import train_test_split\n",
    "\n",
    "def split():\n",
    "    X_train, X_test, y_train, y_test = train_test_split(X, y, test_size = 0.2, random_state = 42)\n",
    "    return X_train, X_test, y_train, y_test"
   ]
  },
  {
   "cell_type": "markdown",
   "id": "a5419269",
   "metadata": {},
   "source": [
    "# 7. Classifying using SVM Kernels"
   ]
  },
  {
   "cell_type": "code",
   "execution_count": 7,
   "id": "2e89b4ee",
   "metadata": {},
   "outputs": [],
   "source": [
    "from sklearn import svm\n",
    "# auto means 1/n_features\n",
    "def linear_class(X_test, X_train, y_train):\n",
    "    # C is the regularization parameter\n",
    "    linear_classifier = svm.SVC(kernel = 'linear', gamma = 'auto', C = 0.1)\n",
    "    linear_classifier.fit(X_train, y_train)\n",
    "    y_predict = linear_classifier.predict(X_test)\n",
    "    \n",
    "    return y_predict\n",
    "\n",
    "def poly_class(X_test, X_train, y_train):\n",
    "    poly_classifier = svm.SVC(kernel = 'poly', gamma = 'auto', degree = 3,  C = 2)\n",
    "    poly_classifier.fit(X_train, y_train)\n",
    "    y_predict = poly_classifier.predict(X_test)\n",
    "    \n",
    "    return y_predict\n",
    "\n",
    "def rbf_class(X_test, X_train, y_train):\n",
    "    RBF_classifier = svm.SVC(kernel = 'rbf', gamma = 'auto', C = 2)\n",
    "    RBF_classifier.fit(X_train, y_train)\n",
    "    y_predict = RBF_classifier.predict(X_test)\n",
    "    \n",
    "    return y_predict\n",
    "    \n",
    "    "
   ]
  },
  {
   "cell_type": "markdown",
   "id": "ef1451d8",
   "metadata": {},
   "source": [
    "# 8. Evaluation Results"
   ]
  },
  {
   "cell_type": "code",
   "execution_count": 8,
   "id": "301b0ee5",
   "metadata": {},
   "outputs": [],
   "source": [
    "from sklearn.metrics import classification_report\n",
    "\n",
    "def linear_results(X_test, X_train, y_train):\n",
    "    y_predict = linear_class(X_test, X_train, y_train)\n",
    "    print(classification_report(y_test, y_predict, zero_division = 0))\n",
    "    \n",
    "def poly_results(X_test, X_train, y_train):\n",
    "    y_predict = poly_class(X_test, X_train, y_train)\n",
    "    print(classification_report(y_test, y_predict, zero_division = 0))\n",
    "    \n",
    "def rbf_results(X_test, X_train, y_train):\n",
    "    y_predict = rbf_class(X_test, X_train, y_train)\n",
    "    print(classification_report(y_test, y_predict, zero_division = 0))"
   ]
  },
  {
   "cell_type": "code",
   "execution_count": 9,
   "id": "cff64ebb",
   "metadata": {},
   "outputs": [],
   "source": [
    "## To-Do: \n",
    "# 1. Make plots for different combinations of regularization (C parameter) and transformations (Kernels)"
   ]
  },
  {
   "cell_type": "code",
   "execution_count": 10,
   "id": "de4d71a1",
   "metadata": {},
   "outputs": [],
   "source": [
    "df = import_data()\n",
    "df = preprocess(df)\n",
    "X, y = get_X_y(df)\n",
    "X_train, X_test, y_train, y_test = split()"
   ]
  },
  {
   "cell_type": "code",
   "execution_count": 11,
   "id": "978712be",
   "metadata": {},
   "outputs": [
    {
     "name": "stdout",
     "output_type": "stream",
     "text": [
      "              precision    recall  f1-score   support\n",
      "\n",
      "           0       0.00      0.00      0.00       299\n",
      "           1       0.12      1.00      0.22        41\n",
      "\n",
      "    accuracy                           0.12       340\n",
      "   macro avg       0.06      0.50      0.11       340\n",
      "weighted avg       0.01      0.12      0.03       340\n",
      "\n"
     ]
    }
   ],
   "source": [
    "poly_results(X_test, X_train, y_train)"
   ]
  },
  {
   "cell_type": "code",
   "execution_count": null,
   "id": "c986c347",
   "metadata": {},
   "outputs": [],
   "source": [
    "linear_results(X_test, X_train, y_train)"
   ]
  },
  {
   "cell_type": "code",
   "execution_count": null,
   "id": "3a809ad0",
   "metadata": {},
   "outputs": [],
   "source": [
    "rbf_results(X_test, X_train, y_train)"
   ]
  },
  {
   "cell_type": "code",
   "execution_count": null,
   "id": "e6679bda",
   "metadata": {},
   "outputs": [],
   "source": [
    "# C = 0.1\n",
    "#               precision    recall  f1-score   support\n",
    "\n",
    "#            0       0.88      1.00      0.94       299\n",
    "#            1       0.00      0.00      0.00        41\n",
    "\n",
    "#     accuracy                           0.88       340\n",
    "#    macro avg       0.44      0.50      0.47       340\n",
    "# weighted avg       0.77      0.88      0.82       340\n",
    "\n",
    "#               precision    recall  f1-score   support\n",
    "\n",
    "#            0       0.00      0.00      0.00       299\n",
    "#            1       0.12      1.00      0.22        41\n",
    "\n",
    "#     accuracy                           0.12       340\n",
    "#    macro avg       0.06      0.50      0.11       340\n",
    "# weighted avg       0.01      0.12      0.03       340\n",
    "\n",
    "#               precision    recall  f1-score   support\n",
    "\n",
    "#            0       0.88      1.00      0.94       299\n",
    "#            1       0.00      0.00      0.00        41\n",
    "\n",
    "#     accuracy                           0.88       340\n",
    "#    macro avg       0.44      0.50      0.47       340\n",
    "# weighted avg       0.77      0.88      0.82       340\n",
    "\n",
    "# C = 0.2\n",
    "#                precision    recall  f1-score   support\n",
    "\n",
    "#            0       0.88      1.00      0.94       299\n",
    "#            1       0.00      0.00      0.00        41\n",
    "\n",
    "#     accuracy                           0.88       340\n",
    "#    macro avg       0.44      0.50      0.47       340\n",
    "# weighted avg       0.77      0.88      0.82       340\n",
    "\n",
    "#               precision    recall  f1-score   support\n",
    "\n",
    "#            0       0.00      0.00      0.00       299\n",
    "#            1       0.12      1.00      0.22        41\n",
    "\n",
    "#     accuracy                           0.12       340\n",
    "#    macro avg       0.06      0.50      0.11       340\n",
    "# weighted avg       0.01      0.12      0.03       340\n",
    "\n",
    "#               precision    recall  f1-score   support\n",
    "\n",
    "#            0       0.88      1.00      0.94       299\n",
    "#            1       0.00      0.00      0.00        41\n",
    "\n",
    "#     accuracy                           0.88       340\n",
    "#    macro avg       0.44      0.50      0.47       340\n",
    "# weighted avg       0.77      0.88      0.82       340\n",
    "\n",
    "# C = 0.3\n",
    "#               precision    recall  f1-score   support\n",
    "\n",
    "#            0       0.88      1.00      0.94       299\n",
    "#            1       0.00      0.00      0.00        41\n",
    "\n",
    "#     accuracy                           0.88       340\n",
    "#    macro avg       0.44      0.50      0.47       340\n",
    "# weighted avg       0.77      0.88      0.82       340\n",
    "\n",
    "#               precision    recall  f1-score   support\n",
    "\n",
    "#            0       0.00      0.00      0.00       299\n",
    "#            1       0.12      1.00      0.22        41\n",
    "\n",
    "#     accuracy                           0.12       340\n",
    "#    macro avg       0.06      0.50      0.11       340\n",
    "# weighted avg       0.01      0.12      0.03       340\n",
    "\n",
    "#               precision    recall  f1-score   support\n",
    "\n",
    "#            0       0.89      1.00      0.94       299\n",
    "#            1       1.00      0.07      0.14        41\n",
    "\n",
    "#     accuracy                           0.89       340\n",
    "#    macro avg       0.94      0.54      0.54       340\n",
    "# weighted avg       0.90      0.89      0.84       340\n",
    "\n",
    "# C = 0.4\n",
    "#               precision    recall  f1-score   support\n",
    "\n",
    "#            0       0.88      1.00      0.94       299\n",
    "#            1       0.00      0.00      0.00        41\n",
    "\n",
    "#     accuracy                           0.88       340\n",
    "#    macro avg       0.44      0.50      0.47       340\n",
    "# weighted avg       0.77      0.88      0.82       340\n",
    "\n",
    "#               precision    recall  f1-score   support\n",
    "\n",
    "#            0       0.00      0.00      0.00       299\n",
    "#            1       0.12      1.00      0.22        41\n",
    "\n",
    "#     accuracy                           0.12       340\n",
    "#    macro avg       0.06      0.50      0.11       340\n",
    "# weighted avg       0.01      0.12      0.03       340\n",
    "\n",
    "#               precision    recall  f1-score   support\n",
    "\n",
    "#            0       0.92      1.00      0.96       299\n",
    "#            1       1.00      0.37      0.54        41\n",
    "\n",
    "#     accuracy                           0.92       340\n",
    "#    macro avg       0.96      0.68      0.75       340\n",
    "# weighted avg       0.93      0.92      0.91       340"
   ]
  }
 ],
 "metadata": {
  "kernelspec": {
   "display_name": "Python 3 (ipykernel)",
   "language": "python",
   "name": "python3"
  },
  "language_info": {
   "codemirror_mode": {
    "name": "ipython",
    "version": 3
   },
   "file_extension": ".py",
   "mimetype": "text/x-python",
   "name": "python",
   "nbconvert_exporter": "python",
   "pygments_lexer": "ipython3",
   "version": "3.9.13"
  }
 },
 "nbformat": 4,
 "nbformat_minor": 5
}
